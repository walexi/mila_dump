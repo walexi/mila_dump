{
  "nbformat": 4,
  "nbformat_minor": 0,
  "metadata": {
    "colab": {
      "provenance": [],
      "collapsed_sections": [
        "af8sV4iibInQ"
      ]
    },
    "kernelspec": {
      "name": "python3",
      "display_name": "Python 3"
    },
    "accelerator": "GPU",
    "widgets": {
      "application/vnd.jupyter.widget-state+json": {
        "64d10eb45b6f4cf593096b41f520b39c": {
          "model_module": "@jupyter-widgets/controls",
          "model_name": "VBoxModel",
          "state": {
            "_view_name": "VBoxView",
            "_dom_classes": [],
            "_model_name": "VBoxModel",
            "_view_module": "@jupyter-widgets/controls",
            "_model_module_version": "1.5.0",
            "_view_count": null,
            "_view_module_version": "1.5.0",
            "box_style": "",
            "layout": "IPY_MODEL_22df96b7c53d456a9444e381fe848878",
            "_model_module": "@jupyter-widgets/controls",
            "children": [
              "IPY_MODEL_bbd7fc0029364775ae068899687ada87",
              "IPY_MODEL_6c08315ed5dc406daa49ea3f5e4aa163"
            ]
          },
          "model_module_version": "1.5.0"
        },
        "22df96b7c53d456a9444e381fe848878": {
          "model_module": "@jupyter-widgets/base",
          "model_name": "LayoutModel",
          "state": {
            "_view_name": "LayoutView",
            "grid_template_rows": null,
            "right": null,
            "justify_content": null,
            "_view_module": "@jupyter-widgets/base",
            "overflow": null,
            "_model_module_version": "1.2.0",
            "_view_count": null,
            "flex_flow": null,
            "width": null,
            "min_width": null,
            "border": null,
            "align_items": null,
            "bottom": null,
            "_model_module": "@jupyter-widgets/base",
            "top": null,
            "grid_column": null,
            "overflow_y": null,
            "overflow_x": null,
            "grid_auto_flow": null,
            "grid_area": null,
            "grid_template_columns": null,
            "flex": null,
            "_model_name": "LayoutModel",
            "justify_items": null,
            "grid_row": null,
            "max_height": null,
            "align_content": null,
            "visibility": null,
            "align_self": null,
            "height": null,
            "min_height": null,
            "padding": null,
            "grid_auto_rows": null,
            "grid_gap": null,
            "max_width": null,
            "order": null,
            "_view_module_version": "1.2.0",
            "grid_template_areas": null,
            "object_position": null,
            "object_fit": null,
            "grid_auto_columns": null,
            "margin": null,
            "display": null,
            "left": null
          },
          "model_module_version": "1.2.0"
        },
        "bbd7fc0029364775ae068899687ada87": {
          "model_module": "@jupyter-widgets/controls",
          "model_name": "LabelModel",
          "state": {
            "_view_name": "LabelView",
            "style": "IPY_MODEL_a1370d1f69de4ca8aa57938af1ec93f7",
            "_dom_classes": [],
            "description": "",
            "_model_name": "LabelModel",
            "placeholder": "​",
            "_view_module": "@jupyter-widgets/controls",
            "_model_module_version": "1.5.0",
            "value": " 0.01MB of 0.01MB uploaded (0.00MB deduped)\r",
            "_view_count": null,
            "_view_module_version": "1.5.0",
            "description_tooltip": null,
            "_model_module": "@jupyter-widgets/controls",
            "layout": "IPY_MODEL_1fd6be1b619544fe9a2d6dc869866515"
          },
          "model_module_version": "1.5.0"
        },
        "6c08315ed5dc406daa49ea3f5e4aa163": {
          "model_module": "@jupyter-widgets/controls",
          "model_name": "FloatProgressModel",
          "state": {
            "_view_name": "ProgressView",
            "style": "IPY_MODEL_c4831f80a44b4f088e29ab721d15c43e",
            "_dom_classes": [],
            "description": "",
            "_model_name": "FloatProgressModel",
            "bar_style": "",
            "max": 1,
            "_view_module": "@jupyter-widgets/controls",
            "_model_module_version": "1.5.0",
            "value": 1,
            "_view_count": null,
            "_view_module_version": "1.5.0",
            "orientation": "horizontal",
            "min": 0,
            "description_tooltip": null,
            "_model_module": "@jupyter-widgets/controls",
            "layout": "IPY_MODEL_f6ac595f5bc448a882126afd114949d8"
          },
          "model_module_version": "1.5.0"
        },
        "a1370d1f69de4ca8aa57938af1ec93f7": {
          "model_module": "@jupyter-widgets/controls",
          "model_name": "DescriptionStyleModel",
          "state": {
            "_view_name": "StyleView",
            "_model_name": "DescriptionStyleModel",
            "description_width": "",
            "_view_module": "@jupyter-widgets/base",
            "_model_module_version": "1.5.0",
            "_view_count": null,
            "_view_module_version": "1.2.0",
            "_model_module": "@jupyter-widgets/controls"
          },
          "model_module_version": "1.5.0"
        },
        "1fd6be1b619544fe9a2d6dc869866515": {
          "model_module": "@jupyter-widgets/base",
          "model_name": "LayoutModel",
          "state": {
            "_view_name": "LayoutView",
            "grid_template_rows": null,
            "right": null,
            "justify_content": null,
            "_view_module": "@jupyter-widgets/base",
            "overflow": null,
            "_model_module_version": "1.2.0",
            "_view_count": null,
            "flex_flow": null,
            "width": null,
            "min_width": null,
            "border": null,
            "align_items": null,
            "bottom": null,
            "_model_module": "@jupyter-widgets/base",
            "top": null,
            "grid_column": null,
            "overflow_y": null,
            "overflow_x": null,
            "grid_auto_flow": null,
            "grid_area": null,
            "grid_template_columns": null,
            "flex": null,
            "_model_name": "LayoutModel",
            "justify_items": null,
            "grid_row": null,
            "max_height": null,
            "align_content": null,
            "visibility": null,
            "align_self": null,
            "height": null,
            "min_height": null,
            "padding": null,
            "grid_auto_rows": null,
            "grid_gap": null,
            "max_width": null,
            "order": null,
            "_view_module_version": "1.2.0",
            "grid_template_areas": null,
            "object_position": null,
            "object_fit": null,
            "grid_auto_columns": null,
            "margin": null,
            "display": null,
            "left": null
          },
          "model_module_version": "1.2.0"
        },
        "c4831f80a44b4f088e29ab721d15c43e": {
          "model_module": "@jupyter-widgets/controls",
          "model_name": "ProgressStyleModel",
          "state": {
            "_view_name": "StyleView",
            "_model_name": "ProgressStyleModel",
            "description_width": "",
            "_view_module": "@jupyter-widgets/base",
            "_model_module_version": "1.5.0",
            "_view_count": null,
            "_view_module_version": "1.2.0",
            "bar_color": null,
            "_model_module": "@jupyter-widgets/controls"
          },
          "model_module_version": "1.5.0"
        },
        "f6ac595f5bc448a882126afd114949d8": {
          "model_module": "@jupyter-widgets/base",
          "model_name": "LayoutModel",
          "state": {
            "_view_name": "LayoutView",
            "grid_template_rows": null,
            "right": null,
            "justify_content": null,
            "_view_module": "@jupyter-widgets/base",
            "overflow": null,
            "_model_module_version": "1.2.0",
            "_view_count": null,
            "flex_flow": null,
            "width": null,
            "min_width": null,
            "border": null,
            "align_items": null,
            "bottom": null,
            "_model_module": "@jupyter-widgets/base",
            "top": null,
            "grid_column": null,
            "overflow_y": null,
            "overflow_x": null,
            "grid_auto_flow": null,
            "grid_area": null,
            "grid_template_columns": null,
            "flex": null,
            "_model_name": "LayoutModel",
            "justify_items": null,
            "grid_row": null,
            "max_height": null,
            "align_content": null,
            "visibility": null,
            "align_self": null,
            "height": null,
            "min_height": null,
            "padding": null,
            "grid_auto_rows": null,
            "grid_gap": null,
            "max_width": null,
            "order": null,
            "_view_module_version": "1.2.0",
            "grid_template_areas": null,
            "object_position": null,
            "object_fit": null,
            "grid_auto_columns": null,
            "margin": null,
            "display": null,
            "left": null
          },
          "model_module_version": "1.2.0"
        },
        "8f138982d61349d58d798f7b94b34791": {
          "model_module": "@jupyter-widgets/controls",
          "model_name": "HBoxModel",
          "state": {
            "_view_name": "HBoxView",
            "_dom_classes": [],
            "_model_name": "HBoxModel",
            "_view_module": "@jupyter-widgets/controls",
            "_model_module_version": "1.5.0",
            "_view_count": null,
            "_view_module_version": "1.5.0",
            "box_style": "",
            "layout": "IPY_MODEL_4a5cba4384704b04bf673d3a33658cab",
            "_model_module": "@jupyter-widgets/controls",
            "children": [
              "IPY_MODEL_498d81dd69fc4ebea179c65e6bf97d04",
              "IPY_MODEL_5b1f836f71544afb985f8e1d8dcf803a"
            ]
          },
          "model_module_version": "1.5.0"
        },
        "4a5cba4384704b04bf673d3a33658cab": {
          "model_module": "@jupyter-widgets/base",
          "model_name": "LayoutModel",
          "state": {
            "_view_name": "LayoutView",
            "grid_template_rows": null,
            "right": null,
            "justify_content": null,
            "_view_module": "@jupyter-widgets/base",
            "overflow": null,
            "_model_module_version": "1.2.0",
            "_view_count": null,
            "flex_flow": null,
            "width": null,
            "min_width": null,
            "border": null,
            "align_items": null,
            "bottom": null,
            "_model_module": "@jupyter-widgets/base",
            "top": null,
            "grid_column": null,
            "overflow_y": null,
            "overflow_x": null,
            "grid_auto_flow": null,
            "grid_area": null,
            "grid_template_columns": null,
            "flex": null,
            "_model_name": "LayoutModel",
            "justify_items": null,
            "grid_row": null,
            "max_height": null,
            "align_content": null,
            "visibility": null,
            "align_self": null,
            "height": null,
            "min_height": null,
            "padding": null,
            "grid_auto_rows": null,
            "grid_gap": null,
            "max_width": null,
            "order": null,
            "_view_module_version": "1.2.0",
            "grid_template_areas": null,
            "object_position": null,
            "object_fit": null,
            "grid_auto_columns": null,
            "margin": null,
            "display": null,
            "left": null
          },
          "model_module_version": "1.2.0"
        },
        "498d81dd69fc4ebea179c65e6bf97d04": {
          "model_module": "@jupyter-widgets/controls",
          "model_name": "FloatProgressModel",
          "state": {
            "_view_name": "ProgressView",
            "style": "IPY_MODEL_32987a6df6a04f6ba8750f8635b133a3",
            "_dom_classes": [],
            "description": "Downloading: 100%",
            "_model_name": "FloatProgressModel",
            "bar_style": "success",
            "max": 213450,
            "_view_module": "@jupyter-widgets/controls",
            "_model_module_version": "1.5.0",
            "value": 213450,
            "_view_count": null,
            "_view_module_version": "1.5.0",
            "orientation": "horizontal",
            "min": 0,
            "description_tooltip": null,
            "_model_module": "@jupyter-widgets/controls",
            "layout": "IPY_MODEL_7fc492561e844e4e9f8abacce3c0995a"
          },
          "model_module_version": "1.5.0"
        },
        "5b1f836f71544afb985f8e1d8dcf803a": {
          "model_module": "@jupyter-widgets/controls",
          "model_name": "HTMLModel",
          "state": {
            "_view_name": "HTMLView",
            "style": "IPY_MODEL_fbc6849122554a9daa0ba2c5897caa2f",
            "_dom_classes": [],
            "description": "",
            "_model_name": "HTMLModel",
            "placeholder": "​",
            "_view_module": "@jupyter-widgets/controls",
            "_model_module_version": "1.5.0",
            "value": " 213k/213k [00:31&lt;00:00, 6.87kB/s]",
            "_view_count": null,
            "_view_module_version": "1.5.0",
            "description_tooltip": null,
            "_model_module": "@jupyter-widgets/controls",
            "layout": "IPY_MODEL_cba2a715601b429fa475891a71077ffb"
          },
          "model_module_version": "1.5.0"
        },
        "32987a6df6a04f6ba8750f8635b133a3": {
          "model_module": "@jupyter-widgets/controls",
          "model_name": "ProgressStyleModel",
          "state": {
            "_view_name": "StyleView",
            "_model_name": "ProgressStyleModel",
            "description_width": "initial",
            "_view_module": "@jupyter-widgets/base",
            "_model_module_version": "1.5.0",
            "_view_count": null,
            "_view_module_version": "1.2.0",
            "bar_color": null,
            "_model_module": "@jupyter-widgets/controls"
          },
          "model_module_version": "1.5.0"
        },
        "7fc492561e844e4e9f8abacce3c0995a": {
          "model_module": "@jupyter-widgets/base",
          "model_name": "LayoutModel",
          "state": {
            "_view_name": "LayoutView",
            "grid_template_rows": null,
            "right": null,
            "justify_content": null,
            "_view_module": "@jupyter-widgets/base",
            "overflow": null,
            "_model_module_version": "1.2.0",
            "_view_count": null,
            "flex_flow": null,
            "width": null,
            "min_width": null,
            "border": null,
            "align_items": null,
            "bottom": null,
            "_model_module": "@jupyter-widgets/base",
            "top": null,
            "grid_column": null,
            "overflow_y": null,
            "overflow_x": null,
            "grid_auto_flow": null,
            "grid_area": null,
            "grid_template_columns": null,
            "flex": null,
            "_model_name": "LayoutModel",
            "justify_items": null,
            "grid_row": null,
            "max_height": null,
            "align_content": null,
            "visibility": null,
            "align_self": null,
            "height": null,
            "min_height": null,
            "padding": null,
            "grid_auto_rows": null,
            "grid_gap": null,
            "max_width": null,
            "order": null,
            "_view_module_version": "1.2.0",
            "grid_template_areas": null,
            "object_position": null,
            "object_fit": null,
            "grid_auto_columns": null,
            "margin": null,
            "display": null,
            "left": null
          },
          "model_module_version": "1.2.0"
        },
        "fbc6849122554a9daa0ba2c5897caa2f": {
          "model_module": "@jupyter-widgets/controls",
          "model_name": "DescriptionStyleModel",
          "state": {
            "_view_name": "StyleView",
            "_model_name": "DescriptionStyleModel",
            "description_width": "",
            "_view_module": "@jupyter-widgets/base",
            "_model_module_version": "1.5.0",
            "_view_count": null,
            "_view_module_version": "1.2.0",
            "_model_module": "@jupyter-widgets/controls"
          },
          "model_module_version": "1.5.0"
        },
        "cba2a715601b429fa475891a71077ffb": {
          "model_module": "@jupyter-widgets/base",
          "model_name": "LayoutModel",
          "state": {
            "_view_name": "LayoutView",
            "grid_template_rows": null,
            "right": null,
            "justify_content": null,
            "_view_module": "@jupyter-widgets/base",
            "overflow": null,
            "_model_module_version": "1.2.0",
            "_view_count": null,
            "flex_flow": null,
            "width": null,
            "min_width": null,
            "border": null,
            "align_items": null,
            "bottom": null,
            "_model_module": "@jupyter-widgets/base",
            "top": null,
            "grid_column": null,
            "overflow_y": null,
            "overflow_x": null,
            "grid_auto_flow": null,
            "grid_area": null,
            "grid_template_columns": null,
            "flex": null,
            "_model_name": "LayoutModel",
            "justify_items": null,
            "grid_row": null,
            "max_height": null,
            "align_content": null,
            "visibility": null,
            "align_self": null,
            "height": null,
            "min_height": null,
            "padding": null,
            "grid_auto_rows": null,
            "grid_gap": null,
            "max_width": null,
            "order": null,
            "_view_module_version": "1.2.0",
            "grid_template_areas": null,
            "object_position": null,
            "object_fit": null,
            "grid_auto_columns": null,
            "margin": null,
            "display": null,
            "left": null
          },
          "model_module_version": "1.2.0"
        },
        "c952036a2ac3481b87cccea77f8906a6": {
          "model_module": "@jupyter-widgets/controls",
          "model_name": "HBoxModel",
          "state": {
            "_view_name": "HBoxView",
            "_dom_classes": [],
            "_model_name": "HBoxModel",
            "_view_module": "@jupyter-widgets/controls",
            "_model_module_version": "1.5.0",
            "_view_count": null,
            "_view_module_version": "1.5.0",
            "box_style": "",
            "layout": "IPY_MODEL_b27916aa6b4143baba23cc6f2492ccd7",
            "_model_module": "@jupyter-widgets/controls",
            "children": [
              "IPY_MODEL_7e63a53edce9454bb5af7b42c55adf52",
              "IPY_MODEL_a444e587abf2461198bd15e2a3deeac9"
            ]
          },
          "model_module_version": "1.5.0"
        },
        "b27916aa6b4143baba23cc6f2492ccd7": {
          "model_module": "@jupyter-widgets/base",
          "model_name": "LayoutModel",
          "state": {
            "_view_name": "LayoutView",
            "grid_template_rows": null,
            "right": null,
            "justify_content": null,
            "_view_module": "@jupyter-widgets/base",
            "overflow": null,
            "_model_module_version": "1.2.0",
            "_view_count": null,
            "flex_flow": null,
            "width": null,
            "min_width": null,
            "border": null,
            "align_items": null,
            "bottom": null,
            "_model_module": "@jupyter-widgets/base",
            "top": null,
            "grid_column": null,
            "overflow_y": null,
            "overflow_x": null,
            "grid_auto_flow": null,
            "grid_area": null,
            "grid_template_columns": null,
            "flex": null,
            "_model_name": "LayoutModel",
            "justify_items": null,
            "grid_row": null,
            "max_height": null,
            "align_content": null,
            "visibility": null,
            "align_self": null,
            "height": null,
            "min_height": null,
            "padding": null,
            "grid_auto_rows": null,
            "grid_gap": null,
            "max_width": null,
            "order": null,
            "_view_module_version": "1.2.0",
            "grid_template_areas": null,
            "object_position": null,
            "object_fit": null,
            "grid_auto_columns": null,
            "margin": null,
            "display": null,
            "left": null
          },
          "model_module_version": "1.2.0"
        },
        "7e63a53edce9454bb5af7b42c55adf52": {
          "model_module": "@jupyter-widgets/controls",
          "model_name": "FloatProgressModel",
          "state": {
            "_view_name": "ProgressView",
            "style": "IPY_MODEL_b114f775d0fc4f52842dc36004a5d0ca",
            "_dom_classes": [],
            "description": "Downloading: 100%",
            "_model_name": "FloatProgressModel",
            "bar_style": "success",
            "max": 435797,
            "_view_module": "@jupyter-widgets/controls",
            "_model_module_version": "1.5.0",
            "value": 435797,
            "_view_count": null,
            "_view_module_version": "1.5.0",
            "orientation": "horizontal",
            "min": 0,
            "description_tooltip": null,
            "_model_module": "@jupyter-widgets/controls",
            "layout": "IPY_MODEL_ced30fce826d4b5aaddd5bf36a4c8373"
          },
          "model_module_version": "1.5.0"
        },
        "a444e587abf2461198bd15e2a3deeac9": {
          "model_module": "@jupyter-widgets/controls",
          "model_name": "HTMLModel",
          "state": {
            "_view_name": "HTMLView",
            "style": "IPY_MODEL_f5b4f35d4a0f48cfba88a5f48e702bbb",
            "_dom_classes": [],
            "description": "",
            "_model_name": "HTMLModel",
            "placeholder": "​",
            "_view_module": "@jupyter-widgets/controls",
            "_model_module_version": "1.5.0",
            "value": " 436k/436k [00:11&lt;00:00, 38.5kB/s]",
            "_view_count": null,
            "_view_module_version": "1.5.0",
            "description_tooltip": null,
            "_model_module": "@jupyter-widgets/controls",
            "layout": "IPY_MODEL_9f9e662484b64be783f5a2f1e40af573"
          },
          "model_module_version": "1.5.0"
        },
        "b114f775d0fc4f52842dc36004a5d0ca": {
          "model_module": "@jupyter-widgets/controls",
          "model_name": "ProgressStyleModel",
          "state": {
            "_view_name": "StyleView",
            "_model_name": "ProgressStyleModel",
            "description_width": "initial",
            "_view_module": "@jupyter-widgets/base",
            "_model_module_version": "1.5.0",
            "_view_count": null,
            "_view_module_version": "1.2.0",
            "bar_color": null,
            "_model_module": "@jupyter-widgets/controls"
          },
          "model_module_version": "1.5.0"
        },
        "ced30fce826d4b5aaddd5bf36a4c8373": {
          "model_module": "@jupyter-widgets/base",
          "model_name": "LayoutModel",
          "state": {
            "_view_name": "LayoutView",
            "grid_template_rows": null,
            "right": null,
            "justify_content": null,
            "_view_module": "@jupyter-widgets/base",
            "overflow": null,
            "_model_module_version": "1.2.0",
            "_view_count": null,
            "flex_flow": null,
            "width": null,
            "min_width": null,
            "border": null,
            "align_items": null,
            "bottom": null,
            "_model_module": "@jupyter-widgets/base",
            "top": null,
            "grid_column": null,
            "overflow_y": null,
            "overflow_x": null,
            "grid_auto_flow": null,
            "grid_area": null,
            "grid_template_columns": null,
            "flex": null,
            "_model_name": "LayoutModel",
            "justify_items": null,
            "grid_row": null,
            "max_height": null,
            "align_content": null,
            "visibility": null,
            "align_self": null,
            "height": null,
            "min_height": null,
            "padding": null,
            "grid_auto_rows": null,
            "grid_gap": null,
            "max_width": null,
            "order": null,
            "_view_module_version": "1.2.0",
            "grid_template_areas": null,
            "object_position": null,
            "object_fit": null,
            "grid_auto_columns": null,
            "margin": null,
            "display": null,
            "left": null
          },
          "model_module_version": "1.2.0"
        },
        "f5b4f35d4a0f48cfba88a5f48e702bbb": {
          "model_module": "@jupyter-widgets/controls",
          "model_name": "DescriptionStyleModel",
          "state": {
            "_view_name": "StyleView",
            "_model_name": "DescriptionStyleModel",
            "description_width": "",
            "_view_module": "@jupyter-widgets/base",
            "_model_module_version": "1.5.0",
            "_view_count": null,
            "_view_module_version": "1.2.0",
            "_model_module": "@jupyter-widgets/controls"
          },
          "model_module_version": "1.5.0"
        },
        "9f9e662484b64be783f5a2f1e40af573": {
          "model_module": "@jupyter-widgets/base",
          "model_name": "LayoutModel",
          "state": {
            "_view_name": "LayoutView",
            "grid_template_rows": null,
            "right": null,
            "justify_content": null,
            "_view_module": "@jupyter-widgets/base",
            "overflow": null,
            "_model_module_version": "1.2.0",
            "_view_count": null,
            "flex_flow": null,
            "width": null,
            "min_width": null,
            "border": null,
            "align_items": null,
            "bottom": null,
            "_model_module": "@jupyter-widgets/base",
            "top": null,
            "grid_column": null,
            "overflow_y": null,
            "overflow_x": null,
            "grid_auto_flow": null,
            "grid_area": null,
            "grid_template_columns": null,
            "flex": null,
            "_model_name": "LayoutModel",
            "justify_items": null,
            "grid_row": null,
            "max_height": null,
            "align_content": null,
            "visibility": null,
            "align_self": null,
            "height": null,
            "min_height": null,
            "padding": null,
            "grid_auto_rows": null,
            "grid_gap": null,
            "max_width": null,
            "order": null,
            "_view_module_version": "1.2.0",
            "grid_template_areas": null,
            "object_position": null,
            "object_fit": null,
            "grid_auto_columns": null,
            "margin": null,
            "display": null,
            "left": null
          },
          "model_module_version": "1.2.0"
        }
      }
    }
  },
  "cells": [
    {
      "cell_type": "code",
      "metadata": {
        "id": "QOyIt37kMCvj",
        "colab": {
          "base_uri": "https://localhost:8080/",
          "height": 292
        },
        "outputId": "6069e0de-35f4-4c23-d580-ca5ceb9ea7dc"
      },
      "source": [
        "!pip install -U  wandb transformers optuna plotly==4.14.3 \"notebook==5.3\" \"ipywidgets==7.5\""
      ],
      "execution_count": null,
      "outputs": [
        {
          "output_type": "stream",
          "text": [
            "  Found existing installation: plotly 4.4.1\n",
            "    Uninstalling plotly-4.4.1:\n",
            "      Successfully uninstalled plotly-4.4.1\n",
            "  Found existing installation: notebook 5.3.1\n",
            "    Uninstalling notebook-5.3.1:\n",
            "      Successfully uninstalled notebook-5.3.1\n",
            "  Found existing installation: ipywidgets 7.6.3\n",
            "    Uninstalling ipywidgets-7.6.3:\n",
            "      Successfully uninstalled ipywidgets-7.6.3\n",
            "Successfully installed GitPython-3.1.13 Mako-1.1.4 alembic-1.5.5 cliff-3.7.0 cmaes-0.8.2 cmd2-1.5.0 colorama-0.4.4 colorlog-4.7.2 configparser-5.0.1 docker-pycreds-0.4.0 gitdb-4.0.5 ipywidgets-7.5.0 notebook-5.3.0 optuna-2.5.0 pathtools-0.1.2 pbr-5.5.1 plotly-4.14.3 pyperclip-1.8.2 python-editor-1.0.4 sacremoses-0.0.43 sentry-sdk-0.20.3 shortuuid-1.0.1 smmap-3.0.5 stevedore-3.3.0 subprocess32-3.5.4 tokenizers-0.10.1 transformers-4.3.2 wandb-0.10.20\n"
          ],
          "name": "stdout"
        },
        {
          "output_type": "display_data",
          "data": {
            "application/vnd.colab-display-data+json": {
              "pip_warning": {
                "packages": [
                  "ipywidgets"
                ]
              }
            }
          },
          "metadata": {
            "tags": []
          }
        }
      ]
    },
    {
      "cell_type": "code",
      "metadata": {
        "id": "fm2fj7fIFJns"
      },
      "source": [
        "from google.colab import drive"
      ],
      "execution_count": null,
      "outputs": []
    },
    {
      "cell_type": "code",
      "metadata": {
        "colab": {
          "base_uri": "https://localhost:8080/"
        },
        "id": "ne5hk7SZFiju",
        "outputId": "67e1fbe6-11e9-40d8-cc61-4380a12f6014"
      },
      "source": [
        "drive.mount('./drive', force_remount=True)"
      ],
      "execution_count": null,
      "outputs": [
        {
          "output_type": "stream",
          "text": [
            "Mounted at ./drive\n"
          ],
          "name": "stdout"
        }
      ]
    },
    {
      "cell_type": "code",
      "metadata": {
        "id": "R1sJ7Y0bGP0k"
      },
      "source": [
        "dir = '/content/drive/MyDrive/BiasCorp/bias_corp_racial.csv'"
      ],
      "execution_count": null,
      "outputs": []
    },
    {
      "cell_type": "code",
      "metadata": {
        "id": "fXTnDZF-Hyqm",
        "colab": {
          "base_uri": "https://localhost:8080/",
          "height": 34
        },
        "outputId": "34569593-703a-44a9-f476-8b8a64defe1e"
      },
      "source": [
        "import torch\n",
        "from torch.utils.data import DataLoader, Dataset\n",
        "from torch import nn\n",
        "import torch.nn.functional as F\n",
        "import wandb\n",
        "from tqdm import tqdm\n",
        "from sklearn.metrics import roc_auc_score, r2_score, average_precision_score, precision_recall_fscore_support\n",
        "from sklearn.preprocessing import MultiLabelBinarizer\n",
        "from collections import namedtuple\n",
        "from dataclasses import dataclass\n",
        "import random\n",
        "import pandas as pd\n",
        "import numpy as np\n",
        "import seaborn as sns\n",
        "import matplotlib.pyplot as plt\n",
        "from matplotlib import colors\n",
        "from pandas.plotting import parallel_coordinates\n",
        "import plotly\n",
        "import plotly.figure_factory as ff\n",
        "import plotly.offline as py\n",
        "import math\n",
        "from scipy.stats import zscore, norm\n",
        "from scipy.special import ndtr\n",
        "py.init_notebook_mode(connected=True)\n",
        "from IPython.display import HTML\n",
        "import plotly.graph_objects as go\n",
        "pd.options.plotting.backend = \"plotly\"\n",
        "\n",
        "import copy\n",
        "# from datasets import  load_metric\n",
        "from transformers import BertModel, BertTokenizerFast, BertLayer\n",
        "from transformers.optimization import AdamW, get_linear_schedule_with_warmup\n",
        "from nltk.tokenize import TweetTokenizer\n",
        "\n",
        "%matplotlib inline\n",
        "plt.set_cmap('jet')"
      ],
      "execution_count": null,
      "outputs": [
        {
          "output_type": "display_data",
          "data": {
            "text/html": [
              "        <script type=\"text/javascript\">\n",
              "        window.PlotlyConfig = {MathJaxConfig: 'local'};\n",
              "        if (window.MathJax) {MathJax.Hub.Config({SVG: {font: \"STIX-Web\"}});}\n",
              "        if (typeof require !== 'undefined') {\n",
              "        require.undef(\"plotly\");\n",
              "        requirejs.config({\n",
              "            paths: {\n",
              "                'plotly': ['https://cdn.plot.ly/plotly-latest.min']\n",
              "            }\n",
              "        });\n",
              "        require(['plotly'], function(Plotly) {\n",
              "            window._Plotly = Plotly;\n",
              "        });\n",
              "        }\n",
              "        </script>\n",
              "        "
            ]
          },
          "metadata": {
            "tags": []
          }
        },
        {
          "output_type": "display_data",
          "data": {
            "text/plain": [
              "<Figure size 432x288 with 0 Axes>"
            ]
          },
          "metadata": {
            "tags": []
          }
        }
      ]
    },
    {
      "cell_type": "code",
      "metadata": {
        "colab": {
          "base_uri": "https://localhost:8080/",
          "height": 784,
          "referenced_widgets": [
            "64d10eb45b6f4cf593096b41f520b39c",
            "22df96b7c53d456a9444e381fe848878",
            "bbd7fc0029364775ae068899687ada87",
            "6c08315ed5dc406daa49ea3f5e4aa163",
            "a1370d1f69de4ca8aa57938af1ec93f7",
            "1fd6be1b619544fe9a2d6dc869866515",
            "c4831f80a44b4f088e29ab721d15c43e",
            "f6ac595f5bc448a882126afd114949d8"
          ]
        },
        "id": "ull97foqjBui",
        "outputId": "78ff0584-052a-4cca-c1a0-797b29a255f5"
      },
      "source": [
        "wandb.login(key=\"\")\n",
        "wandb.init(project=\"final-paper\", id='my', save_code=True, name='temp', reinit=True, entity=\"walexi4great\")"
      ],
      "execution_count": null,
      "outputs": [
        {
          "output_type": "stream",
          "text": [
            "\u001b[34m\u001b[1mwandb\u001b[0m: \u001b[33mWARNING\u001b[0m Calling wandb.login() after wandb.init() has no effect.\n"
          ],
          "name": "stderr"
        },
        {
          "output_type": "display_data",
          "data": {
            "text/html": [
              "Finishing last run (ID:my) before initializing another..."
            ],
            "text/plain": [
              "<IPython.core.display.HTML object>"
            ]
          },
          "metadata": {
            "tags": []
          }
        },
        {
          "output_type": "display_data",
          "data": {
            "text/html": [
              "<br/>Waiting for W&B process to finish, PID 359<br/>Program ended successfully."
            ],
            "text/plain": [
              "<IPython.core.display.HTML object>"
            ]
          },
          "metadata": {
            "tags": []
          }
        },
        {
          "output_type": "display_data",
          "data": {
            "application/vnd.jupyter.widget-view+json": {
              "model_id": "64d10eb45b6f4cf593096b41f520b39c",
              "version_minor": 0,
              "version_major": 2
            },
            "text/plain": [
              "VBox(children=(Label(value=' 0.00MB of 0.00MB uploaded (0.00MB deduped)\\r'), FloatProgress(value=1.0, max=1.0)…"
            ]
          },
          "metadata": {
            "tags": []
          }
        },
        {
          "output_type": "display_data",
          "data": {
            "text/html": [
              "Find user logs for this run at: <code>/content/wandb/run-20210224_084046-my/logs/debug.log</code>"
            ],
            "text/plain": [
              "<IPython.core.display.HTML object>"
            ]
          },
          "metadata": {
            "tags": []
          }
        },
        {
          "output_type": "display_data",
          "data": {
            "text/html": [
              "Find internal logs for this run at: <code>/content/wandb/run-20210224_084046-my/logs/debug-internal.log</code>"
            ],
            "text/plain": [
              "<IPython.core.display.HTML object>"
            ]
          },
          "metadata": {
            "tags": []
          }
        },
        {
          "output_type": "display_data",
          "data": {
            "text/html": [
              "Synced 5 W&B file(s), 0 media file(s), 0 artifact file(s) and 0 other file(s)"
            ],
            "text/plain": [
              "<IPython.core.display.HTML object>"
            ]
          },
          "metadata": {
            "tags": []
          }
        },
        {
          "output_type": "display_data",
          "data": {
            "text/html": [
              "\n",
              "                    <br/>Synced <strong style=\"color:#cdcd00\">temp</strong>: <a href=\"https://wandb.ai/walexi4great/final-paper/runs/my\" target=\"_blank\">https://wandb.ai/walexi4great/final-paper/runs/my</a><br/>\n",
              "                "
            ],
            "text/plain": [
              "<IPython.core.display.HTML object>"
            ]
          },
          "metadata": {
            "tags": []
          }
        },
        {
          "output_type": "display_data",
          "data": {
            "text/html": [
              "...Successfully finished last run (ID:my). Initializing new run:<br/><br/>"
            ],
            "text/plain": [
              "<IPython.core.display.HTML object>"
            ]
          },
          "metadata": {
            "tags": []
          }
        },
        {
          "output_type": "display_data",
          "data": {
            "text/html": [
              "\n",
              "                Tracking run with wandb version 0.10.20<br/>\n",
              "                Syncing run <strong style=\"color:#cdcd00\">temp</strong> to <a href=\"https://wandb.ai\" target=\"_blank\">Weights & Biases</a> <a href=\"https://docs.wandb.com/integrations/jupyter.html\" target=\"_blank\">(Documentation)</a>.<br/>\n",
              "                Project page: <a href=\"https://wandb.ai/walexi4great/final-paper\" target=\"_blank\">https://wandb.ai/walexi4great/final-paper</a><br/>\n",
              "                Run page: <a href=\"https://wandb.ai/walexi4great/final-paper/runs/my\" target=\"_blank\">https://wandb.ai/walexi4great/final-paper/runs/my</a><br/>\n",
              "                Run data is saved locally in <code>/content/wandb/run-20210224_084120-my</code><br/><br/>\n",
              "            "
            ],
            "text/plain": [
              "<IPython.core.display.HTML object>"
            ]
          },
          "metadata": {
            "tags": []
          }
        },
        {
          "output_type": "execute_result",
          "data": {
            "text/plain": [
              "<wandb.sdk.wandb_run.Run at 0x7fddd8320b50>"
            ],
            "text/html": [
              "<h1>Run(my)</h1><iframe src=\"https://wandb.ai/walexi4great/final-paper/runs/my\" style=\"border:none;width:100%;height:400px\"></iframe>"
            ]
          },
          "metadata": {
            "tags": []
          },
          "execution_count": 9
        }
      ]
    },
    {
      "cell_type": "code",
      "metadata": {
        "colab": {
          "base_uri": "https://localhost:8080/"
        },
        "id": "pbf2dlZLOBG0",
        "outputId": "87ed4430-5dc6-477e-f015-86084496ea78"
      },
      "source": [
        "%env WANDB_LOG_MODEL=true\n",
        "%env WANDB_WATCH='all'"
      ],
      "execution_count": null,
      "outputs": [
        {
          "output_type": "stream",
          "text": [
            "env: WANDB_LOG_MODEL=true\n",
            "env: WANDB_WATCH='all'\n"
          ],
          "name": "stdout"
        }
      ]
    },
    {
      "cell_type": "code",
      "metadata": {
        "id": "ijzNwHlOcBJa"
      },
      "source": [
        "BATCH_SIZE = 8\n",
        "NUM_WORKERS = 3\n",
        "MAX_LEN = 512\n",
        "PRE_TRAINED_MODEL_NAME = 'bert-base-cased'"
      ],
      "execution_count": null,
      "outputs": []
    },
    {
      "cell_type": "code",
      "metadata": {
        "id": "7ywD9kFhH2Zp"
      },
      "source": [
        "df = pd.read_csv(dir)"
      ],
      "execution_count": null,
      "outputs": []
    },
    {
      "cell_type": "code",
      "metadata": {
        "colab": {
          "base_uri": "https://localhost:8080/",
          "height": 210
        },
        "id": "mpppnlfWH7dL",
        "outputId": "10146df4-3cec-4be8-ad94-c4d2a2030ed9"
      },
      "source": [
        "df.head(3)"
      ],
      "execution_count": null,
      "outputs": [
        {
          "output_type": "execute_result",
          "data": {
            "text/html": [
              "<div>\n",
              "<style scoped>\n",
              "    .dataframe tbody tr th:only-of-type {\n",
              "        vertical-align: middle;\n",
              "    }\n",
              "\n",
              "    .dataframe tbody tr th {\n",
              "        vertical-align: top;\n",
              "    }\n",
              "\n",
              "    .dataframe thead th {\n",
              "        text-align: right;\n",
              "    }\n",
              "</style>\n",
              "<table border=\"1\" class=\"dataframe\">\n",
              "  <thead>\n",
              "    <tr style=\"text-align: right;\">\n",
              "      <th></th>\n",
              "      <th>text</th>\n",
              "      <th>bias_1</th>\n",
              "      <th>bias_2</th>\n",
              "      <th>bias_3</th>\n",
              "      <th>confidence_1</th>\n",
              "      <th>confidence_2</th>\n",
              "      <th>confidence_3</th>\n",
              "      <th>time_1</th>\n",
              "      <th>time_2</th>\n",
              "      <th>time_3</th>\n",
              "      <th>sentiment_score</th>\n",
              "      <th>source</th>\n",
              "    </tr>\n",
              "  </thead>\n",
              "  <tbody>\n",
              "    <tr>\n",
              "      <th>0</th>\n",
              "      <td>'' Democrats needed someone like Obama, half w...</td>\n",
              "      <td>4</td>\n",
              "      <td>3</td>\n",
              "      <td>2</td>\n",
              "      <td>4</td>\n",
              "      <td>3</td>\n",
              "      <td>5</td>\n",
              "      <td>82</td>\n",
              "      <td>94</td>\n",
              "      <td>295</td>\n",
              "      <td>0.205548</td>\n",
              "      <td>BB</td>\n",
              "    </tr>\n",
              "    <tr>\n",
              "      <th>1</th>\n",
              "      <td>'Greatest threat to the Black Famiky is the wh...</td>\n",
              "      <td>1</td>\n",
              "      <td>3</td>\n",
              "      <td>4</td>\n",
              "      <td>6</td>\n",
              "      <td>6</td>\n",
              "      <td>4</td>\n",
              "      <td>48</td>\n",
              "      <td>37</td>\n",
              "      <td>23</td>\n",
              "      <td>-0.189737</td>\n",
              "      <td>BB</td>\n",
              "    </tr>\n",
              "    <tr>\n",
              "      <th>2</th>\n",
              "      <td>'In March, Black Lives Matter activists marche...</td>\n",
              "      <td>3</td>\n",
              "      <td>3</td>\n",
              "      <td>2</td>\n",
              "      <td>7</td>\n",
              "      <td>7</td>\n",
              "      <td>7</td>\n",
              "      <td>140</td>\n",
              "      <td>2495</td>\n",
              "      <td>75</td>\n",
              "      <td>-0.282843</td>\n",
              "      <td>BB</td>\n",
              "    </tr>\n",
              "  </tbody>\n",
              "</table>\n",
              "</div>"
            ],
            "text/plain": [
              "                                                text  ...  source\n",
              "0  '' Democrats needed someone like Obama, half w...  ...      BB\n",
              "1  'Greatest threat to the Black Famiky is the wh...  ...      BB\n",
              "2  'In March, Black Lives Matter activists marche...  ...      BB\n",
              "\n",
              "[3 rows x 12 columns]"
            ]
          },
          "metadata": {
            "tags": []
          },
          "execution_count": 10
        }
      ]
    },
    {
      "cell_type": "code",
      "metadata": {
        "id": "O_s9J15HKT53"
      },
      "source": [
        "df['confidence_sum'] = df.apply(lambda row: sum([row['confidence_1'], row['confidence_2'], row['confidence_3']]), axis=1)"
      ],
      "execution_count": null,
      "outputs": []
    },
    {
      "cell_type": "code",
      "metadata": {
        "id": "sgq8MgLedtGR"
      },
      "source": [
        "df['class_indices'] = df.apply(lambda row: np.asarray([row['bias_1'], row['bias_2'], row['bias_3']]), axis=1)"
      ],
      "execution_count": null,
      "outputs": []
    },
    {
      "cell_type": "code",
      "metadata": {
        "id": "lsRlYApCsOSw"
      },
      "source": [
        "# df.loc[:, 'confidence_2'] = df.confidence_2.apply(lambda ele: ele/10)\n",
        "# df.loc[:, 'confidence_3'] = df.confidence_3.apply(lambda ele: ele/10)\n",
        "df['conf_scores'] = df.apply(lambda row: np.asarray([row['confidence_1'], row['confidence_2'], row['confidence_3']])/row['confidence_sum'], axis=1)"
      ],
      "execution_count": null,
      "outputs": []
    },
    {
      "cell_type": "code",
      "metadata": {
        "id": "rIZOqYPGLkpO"
      },
      "source": [
        "@dataclass\n",
        "class Data:\n",
        "  train: pd.DataFrame\n",
        "  val: pd.DataFrame\n",
        "  test: pd.DataFrame"
      ],
      "execution_count": null,
      "outputs": []
    },
    {
      "cell_type": "code",
      "metadata": {
        "id": "9aZY-rWIptu3"
      },
      "source": [
        "def shuffle_dist(dataframe: pd.DataFrame, split_ratio: float=0.6) -> Data:\n",
        "  \"\"\"randomly split dataset into train and val set based on the source column\n",
        "  Parameters\n",
        "  ----------\n",
        "  dataframe : pd.Dataframe\n",
        "    dataset in pandas dataframe type\n",
        "  split_ratio : float\n",
        "    for a given source, percent of entries to split\n",
        "\n",
        "  Returns\n",
        "  -------\n",
        "  Data\n",
        "    dataclass with fields train, val, and test\n",
        "\n",
        "  \"\"\"\n",
        "  coin = random.choice([0,1])\n",
        "  if coin:\n",
        "    ratio = int(len(dataframe[dataframe['source']=='Fox']) * split_ratio)\n",
        "    train = pd.concat([ dataframe[dataframe['source']=='BB'], dataframe[dataframe['source']=='Fox'][:ratio] ])\n",
        "    val = dataframe[dataframe['source']=='Fox'][ratio:]\n",
        "  else:\n",
        "    ratio = int(len(dataframe[dataframe['source']=='BB']) * split_ratio)\n",
        "    train = pd.concat([ dataframe[dataframe['source']=='Fox'], dataframe[dataframe['source']=='BB'][:ratio] ])\n",
        "    val = dataframe[dataframe['source']=='BB'][ratio:]\n",
        "  test = dataframe[dataframe['source']=='Youtube']\n",
        "\n",
        "  return Data(train,val,test)\n"
      ],
      "execution_count": null,
      "outputs": []
    },
    {
      "cell_type": "code",
      "metadata": {
        "colab": {
          "base_uri": "https://localhost:8080/",
          "height": 115,
          "referenced_widgets": [
            "8f138982d61349d58d798f7b94b34791",
            "4a5cba4384704b04bf673d3a33658cab",
            "498d81dd69fc4ebea179c65e6bf97d04",
            "5b1f836f71544afb985f8e1d8dcf803a",
            "32987a6df6a04f6ba8750f8635b133a3",
            "7fc492561e844e4e9f8abacce3c0995a",
            "fbc6849122554a9daa0ba2c5897caa2f",
            "cba2a715601b429fa475891a71077ffb",
            "c952036a2ac3481b87cccea77f8906a6",
            "b27916aa6b4143baba23cc6f2492ccd7",
            "7e63a53edce9454bb5af7b42c55adf52",
            "a444e587abf2461198bd15e2a3deeac9",
            "b114f775d0fc4f52842dc36004a5d0ca",
            "ced30fce826d4b5aaddd5bf36a4c8373",
            "f5b4f35d4a0f48cfba88a5f48e702bbb",
            "9f9e662484b64be783f5a2f1e40af573"
          ]
        },
        "id": "KnHhg2X_IE1A",
        "outputId": "ab9b27b8-911c-4b29-f135-7415d007a781"
      },
      "source": [
        "tokenizer = BertTokenizerFast.from_pretrained(PRE_TRAINED_MODEL_NAME)"
      ],
      "execution_count": null,
      "outputs": [
        {
          "output_type": "display_data",
          "data": {
            "application/vnd.jupyter.widget-view+json": {
              "model_id": "8f138982d61349d58d798f7b94b34791",
              "version_minor": 0,
              "version_major": 2
            },
            "text/plain": [
              "HBox(children=(FloatProgress(value=0.0, description='Downloading', max=213450.0, style=ProgressStyle(descripti…"
            ]
          },
          "metadata": {
            "tags": []
          }
        },
        {
          "output_type": "stream",
          "text": [
            "\n"
          ],
          "name": "stdout"
        },
        {
          "output_type": "display_data",
          "data": {
            "application/vnd.jupyter.widget-view+json": {
              "model_id": "c952036a2ac3481b87cccea77f8906a6",
              "version_minor": 0,
              "version_major": 2
            },
            "text/plain": [
              "HBox(children=(FloatProgress(value=0.0, description='Downloading', max=435797.0, style=ProgressStyle(descripti…"
            ]
          },
          "metadata": {
            "tags": []
          }
        },
        {
          "output_type": "stream",
          "text": [
            "\n"
          ],
          "name": "stdout"
        }
      ]
    },
    {
      "cell_type": "code",
      "metadata": {
        "id": "bSfBAcnSE5gt"
      },
      "source": [
        "import re\n",
        "\n",
        "regex = re.compile(\"(?<=^|(?<=[^a-zA-Z0-9-_\\.]))@([A-Za-z]+[A-Za-z0-9-_]+)|(\\\\n)|(\\\\r)|(\\\\t)|(\\<+?.+?\\>)\", re.IGNORECASE)\n",
        "regex2 = re.compile(\"(\\\\')\")"
      ],
      "execution_count": null,
      "outputs": []
    },
    {
      "cell_type": "code",
      "metadata": {
        "id": "yNrOWly7MraB",
        "colab": {
          "base_uri": "https://localhost:8080/"
        },
        "outputId": "bdb8b569-5cc4-4e8c-9c9e-40eb2dd97388"
      },
      "source": [
        "candidates = []\n",
        "matches = []\n",
        "matches2 = []\n",
        "for text in df.text:\n",
        "  if len(tokenizer.tokenize(text))>512:\n",
        "    candidates.append(text)\n",
        "  if regex.match(text):\n",
        "    matches.append(text)\n",
        "  if regex2.match(text):\n",
        "    matches2.append(text)\n",
        "  MAX_LEN = max(MAX_LEN, len(tokenizer.tokenize(text)))\n"
      ],
      "execution_count": null,
      "outputs": [
        {
          "output_type": "stream",
          "text": [
            "Token indices sequence length is longer than the specified maximum sequence length for this model (623 > 512). Running this sequence through the model will result in indexing errors\n"
          ],
          "name": "stderr"
        }
      ]
    },
    {
      "cell_type": "code",
      "metadata": {
        "colab": {
          "base_uri": "https://localhost:8080/"
        },
        "id": "w9zrLUtJZ98r",
        "outputId": "d4e0c0c4-361d-450c-99a3-f34765a96123"
      },
      "source": [
        "MAX_LEN, len(candidates), len(matches), len(matches2)"
      ],
      "execution_count": null,
      "outputs": [
        {
          "output_type": "execute_result",
          "data": {
            "text/plain": [
              "(623, 1, 815, 5)"
            ]
          },
          "metadata": {
            "tags": []
          },
          "execution_count": 19
        }
      ]
    },
    {
      "cell_type": "code",
      "metadata": {
        "id": "p0NzoLGqNK-G"
      },
      "source": [
        "df.loc[:, 'text'] = df.text.apply(lambda ele: regex.sub(\"\",ele))\n",
        "df.loc[:, 'text'] = df.text.apply(lambda ele: regex2.sub(\"'\",ele))"
      ],
      "execution_count": null,
      "outputs": []
    },
    {
      "cell_type": "code",
      "metadata": {
        "id": "v_4Rcki-Jbmc"
      },
      "source": [
        "MAX_LEN = 0\n",
        "candidates = []\n",
        "matches = []\n",
        "matches2 = []\n",
        "for text in df.text:\n",
        "  if len(tokenizer.tokenize(text))>512:\n",
        "    candidates.append(text)\n",
        "  if regex.match(text):\n",
        "    matches.append(text)\n",
        "  if regex2.match(text):\n",
        "    matches2.append(text)\n",
        "  MAX_LEN = max(MAX_LEN, len(tokenizer.tokenize(text)))"
      ],
      "execution_count": null,
      "outputs": []
    },
    {
      "cell_type": "code",
      "metadata": {
        "colab": {
          "base_uri": "https://localhost:8080/"
        },
        "id": "KN27mHqaOH5H",
        "outputId": "64daab4e-1199-4e51-9498-58316d7cad67"
      },
      "source": [
        "MAX_LEN, len(candidates), len(matches), len(matches2)"
      ],
      "execution_count": null,
      "outputs": [
        {
          "output_type": "execute_result",
          "data": {
            "text/plain": [
              "(478, 0, 0, 24)"
            ]
          },
          "metadata": {
            "tags": []
          },
          "execution_count": 22
        }
      ]
    },
    {
      "cell_type": "code",
      "metadata": {
        "id": "tlk0hvNvJjck"
      },
      "source": [
        "matches2"
      ],
      "execution_count": null,
      "outputs": []
    },
    {
      "cell_type": "markdown",
      "metadata": {
        "id": "pWyyEsTyn_9m"
      },
      "source": [
        "## Dataset"
      ]
    },
    {
      "cell_type": "code",
      "metadata": {
        "colab": {
          "base_uri": "https://localhost:8080/",
          "height": 301
        },
        "id": "jp8NwkS8e5hv",
        "outputId": "2d08b3b9-7530-4206-d892-4cf2f942376d"
      },
      "source": [
        "df.head(2)"
      ],
      "execution_count": null,
      "outputs": [
        {
          "output_type": "execute_result",
          "data": {
            "text/html": [
              "<div>\n",
              "<style scoped>\n",
              "    .dataframe tbody tr th:only-of-type {\n",
              "        vertical-align: middle;\n",
              "    }\n",
              "\n",
              "    .dataframe tbody tr th {\n",
              "        vertical-align: top;\n",
              "    }\n",
              "\n",
              "    .dataframe thead th {\n",
              "        text-align: right;\n",
              "    }\n",
              "</style>\n",
              "<table border=\"1\" class=\"dataframe\">\n",
              "  <thead>\n",
              "    <tr style=\"text-align: right;\">\n",
              "      <th></th>\n",
              "      <th>text</th>\n",
              "      <th>bias_1</th>\n",
              "      <th>bias_2</th>\n",
              "      <th>bias_3</th>\n",
              "      <th>confidence_1</th>\n",
              "      <th>confidence_2</th>\n",
              "      <th>confidence_3</th>\n",
              "      <th>time_1</th>\n",
              "      <th>time_2</th>\n",
              "      <th>time_3</th>\n",
              "      <th>sentiment_score</th>\n",
              "      <th>source</th>\n",
              "      <th>confidence_sum</th>\n",
              "      <th>class_indices</th>\n",
              "      <th>conf_scores</th>\n",
              "    </tr>\n",
              "  </thead>\n",
              "  <tbody>\n",
              "    <tr>\n",
              "      <th>0</th>\n",
              "      <td>'' Democrats needed someone like Obama, half w...</td>\n",
              "      <td>4</td>\n",
              "      <td>3</td>\n",
              "      <td>2</td>\n",
              "      <td>4</td>\n",
              "      <td>3</td>\n",
              "      <td>5</td>\n",
              "      <td>82</td>\n",
              "      <td>94</td>\n",
              "      <td>295</td>\n",
              "      <td>0.205548</td>\n",
              "      <td>BB</td>\n",
              "      <td>12</td>\n",
              "      <td>[4, 3, 2]</td>\n",
              "      <td>[0.3333333333333333, 0.25, 0.4166666666666667]</td>\n",
              "    </tr>\n",
              "    <tr>\n",
              "      <th>1</th>\n",
              "      <td>'Greatest threat to the Black Famiky is the wh...</td>\n",
              "      <td>1</td>\n",
              "      <td>3</td>\n",
              "      <td>4</td>\n",
              "      <td>6</td>\n",
              "      <td>6</td>\n",
              "      <td>4</td>\n",
              "      <td>48</td>\n",
              "      <td>37</td>\n",
              "      <td>23</td>\n",
              "      <td>-0.189737</td>\n",
              "      <td>BB</td>\n",
              "      <td>16</td>\n",
              "      <td>[1, 3, 4]</td>\n",
              "      <td>[0.375, 0.375, 0.25]</td>\n",
              "    </tr>\n",
              "  </tbody>\n",
              "</table>\n",
              "</div>"
            ],
            "text/plain": [
              "                                                text  ...                                     conf_scores\n",
              "0  '' Democrats needed someone like Obama, half w...  ...  [0.3333333333333333, 0.25, 0.4166666666666667]\n",
              "1  'Greatest threat to the Black Famiky is the wh...  ...                            [0.375, 0.375, 0.25]\n",
              "\n",
              "[2 rows x 15 columns]"
            ]
          },
          "metadata": {
            "tags": []
          },
          "execution_count": 24
        }
      ]
    },
    {
      "cell_type": "code",
      "metadata": {
        "id": "Uo_24Ip4fMPz"
      },
      "source": [
        "def one_hot(conf_scores, cls_indices):\n",
        "  empty = torch.zeros((1,6), dtype=torch.float)\n",
        "  cls = torch.tensor([cls_indices], dtype=torch.long)\n",
        "  conf = torch.tensor([conf_scores], dtype=torch.float)\n",
        "\n",
        "  return empty.scatter_(1, cls, conf, reduce='add')\n"
      ],
      "execution_count": null,
      "outputs": []
    },
    {
      "cell_type": "code",
      "metadata": {
        "id": "d0zYwCdBoCRh"
      },
      "source": [
        "class BiasDataset(Dataset):\n",
        "  def __init__(self, df, tokenizer, max_len):\n",
        "    self.df = df\n",
        "    self.tokenizer = tokenizer\n",
        "    self.max_len = max_len\n",
        "    self.config = {\n",
        "        'max_len': max_len,\n",
        "        'return_attention_mask': True,\n",
        "        'padding': 'max_length',\n",
        "        'truncation': True,\n",
        "        'return_tensors': 'pt',\n",
        "        'return_token_type_ids': False\n",
        "    }\n",
        "\n",
        "  def __len__(self):\n",
        "    return len(self.df)\n",
        "\n",
        "  def __getitem__(self, item):\n",
        "    entry = self.df.iloc[item]\n",
        "    text = entry.text\n",
        "    config = {\n",
        "        'max_length': self.max_len,\n",
        "        'return_attention_mask': True,\n",
        "        'padding': 'max_length',\n",
        "        'truncation': True,\n",
        "        'return_tensors': 'pt',\n",
        "        'return_token_type_ids': False\n",
        "    }\n",
        "    encoding = self.tokenizer(text, **config)\n",
        "\n",
        "    try:\n",
        "      conf_scores = entry.conf_scores\n",
        "      indices = entry.class_indices\n",
        "      target = one_hot(conf_scores, indices)\n",
        "\n",
        "      return {\n",
        "          'text': text,\n",
        "          'input_ids': encoding['input_ids'],\n",
        "          'attention_mask' : encoding['attention_mask'],\n",
        "          'target': target\n",
        "      }\n",
        "    except KeyError:\n",
        "      return {\n",
        "          'text': text,\n",
        "          'input_ids': encoding['input_ids'],\n",
        "          'attention_mask': encoding['attention_mask']\n",
        "      }"
      ],
      "execution_count": null,
      "outputs": []
    },
    {
      "cell_type": "code",
      "metadata": {
        "id": "N_ZRbhQJhkU4"
      },
      "source": [
        "dataset = shuffle_dist(df)"
      ],
      "execution_count": null,
      "outputs": []
    },
    {
      "cell_type": "code",
      "metadata": {
        "id": "fgGoFwrRXB6x"
      },
      "source": [
        "train_ds = BiasDataset(dataset.train, max_len=MAX_LEN, tokenizer=tokenizer)\n",
        "val_ds = BiasDataset(dataset.val, max_len=MAX_LEN, tokenizer=tokenizer)\n",
        "test_ds  = BiasDataset(dataset.test, max_len=MAX_LEN, tokenizer=tokenizer)"
      ],
      "execution_count": null,
      "outputs": []
    },
    {
      "cell_type": "code",
      "metadata": {
        "id": "DDsxAA5x0EsU"
      },
      "source": [
        "train_dl = DataLoader(train_ds, num_workers=NUM_WORKERS, batch_size= BATCH_SIZE, shuffle=True)\n",
        "test_dl = DataLoader(test_ds, num_workers=NUM_WORKERS, batch_size=BATCH_SIZE, shuffle=True)\n",
        "val_dl = DataLoader(val_ds, num_workers=NUM_WORKERS, batch_size=BATCH_SIZE, shuffle=False)"
      ],
      "execution_count": null,
      "outputs": []
    },
    {
      "cell_type": "code",
      "metadata": {
        "id": "e5t7HGNWnuOS"
      },
      "source": [
        "dataloader = Data(train_dl, val_dl, test_dl)"
      ],
      "execution_count": null,
      "outputs": []
    },
    {
      "cell_type": "code",
      "metadata": {
        "id": "wicsMi-TpqLU"
      },
      "source": [
        "class BackBone(nn.Module):\n",
        "\n",
        "  def __init__(self, trials=None):\n",
        "\n",
        "    super(BackBone, self).__init__()\n",
        "\n",
        "    bert = BertModel.from_pretrained(PRE_TRAINED_MODEL_NAME)\n",
        "\n",
        "    for layer in bert.parameters():\n",
        "      layer.requires_grad = False\n",
        "\n",
        "    self.bert = bert\n",
        "\n",
        "    # hopfield = EncoderLayer(bert.config,0.2)\n",
        "\n",
        "    # self.bert = replaceLayer(bert, hopfield, [7,8,9])\n",
        "    # # self.bi_lstm = return sequences and apply dropout\n",
        "    # # max_pool\n",
        "    # # dense then dropout and dense_output\n",
        "    # self.hopfield_pool = HopfieldPooling(self.bert.config.hidden_size, hidden_size=32, output_size=self.bert.config.hidden_size, num_heads=1)\n",
        "    if(trials):\n",
        "      self.dropout = nn.Dropout(trials.suggest_uniform('dropout_rate', 0.2, 0.5))\n",
        "    else:\n",
        "      self.dropout = nn.Dropout(0.3)\n",
        "\n",
        "    self.lin = nn.Linear(self.bert.config.hidden_size, 6)\n",
        "\n",
        "  def forward(self, input_ids, attention_mask = None):\n",
        "    output = self.bert(\n",
        "        input_ids=input_ids,\n",
        "        attention_mask=attention_mask,\n",
        "        output_attentions=False\n",
        "        )\n",
        "\n",
        "    out = output.pooler_output\n",
        "\n",
        "    # out = out.unsqueeze(1)\n",
        "\n",
        "    # out = self.hopfield_pool(out)\n",
        "\n",
        "    out = self.lin(self.dropout(out))\n",
        "\n",
        "    return out, output.attentions\n"
      ],
      "execution_count": null,
      "outputs": []
    },
    {
      "cell_type": "code",
      "metadata": {
        "id": "MKm8GxRLb5r3"
      },
      "source": [
        "class Trainer:\n",
        "  def __init__(self, model, dataloader, batch_size):\n",
        "    self.device = torch.device(\"cuda:0\" if torch.cuda.is_available() else \"cpu\")\n",
        "    self.model  = model.to(self.device)\n",
        "    self.dataloader = dataloader #move to data prep to init method later\n",
        "    self.batch_size = batch_size\n",
        "    bce_loss = nn.BCEWithLogitsLoss()\n",
        "    self.bce_loss = bce_loss\n",
        "    self.label_binarizer = MultiLabelBinarizer(classes=[0,1,2,3,4,5])\n",
        "    wandb.watch(self.model, bce_loss, log='all')\n",
        "\n",
        "# for each batch, return loss, r2_score,\n",
        "  def compute_metrics(self, logits, targets, end_of_epoch=False, isTrain=True):\n",
        "    if end_of_epoch and not isTrain:\n",
        "\n",
        "      # transform to label indicators for each topk\n",
        "      pred_matrix = [self.label_binarizer.fit_transform(logits[i]) for i in range(3)]\n",
        "      targ_matrix = [self.label_binarizer.fit_transform(targets[i]) for i in range(3)]\n",
        "\n",
        "      # ap for each class in an array of class length\n",
        "      average_precision = [ average_precision_score(targ_matrix[i], pred_matrix[i], average=None) for i in range(3) ]\n",
        "      # print(pred_matrix[0].shape) (8392, 2)\n",
        "      # mean average precision\n",
        "      map = [average_precision_score(targ_matrix[i], pred_matrix[i], average='macro') for i in range(3)]\n",
        "\n",
        "      # array of tuple(precision recall f1_score) for each class\n",
        "      prec_recall_f1 = [ [ (precision_recall_fscore_support(targ_matrix[j][:,i], pred_matrix[j][:,i], average='micro'))[0:3] for i in range(6)] for j in range(3)]\n",
        "\n",
        "      return average_precision, map, prec_recall_f1\n",
        "\n",
        "\n",
        "\n",
        "    loss = self.bce_loss(logits, targets)\n",
        "\n",
        "    if not isTrain:\n",
        "      prob = F.softmax(logits, dim=1)\n",
        "      prob = prob.cpu()\n",
        "    # # r2_score = r2_score(targets.numpy(), prob, multioutput='raw_values')\n",
        "      topk_preds = [0]*3\n",
        "      topk_targs = [0]*3\n",
        "      for i in range(3):\n",
        "        topk_pred = prob.topk(i+1).indices.numpy()\n",
        "        topk_targ = targets.cpu().topk(i+1).indices.numpy()\n",
        "        topk_preds[i]=topk_pred\n",
        "        topk_targs[i]=topk_targ\n",
        "\n",
        "      return loss, topk_preds, topk_targs\n",
        "\n",
        "    return loss\n",
        "\n",
        "  def fit(self, epochs, lr):\n",
        "    config = wandb.config\n",
        "    config.batch_size = self.batch_size\n",
        "    config.epochs = epochs\n",
        "    config.lr = lr\n",
        "    config.no_cuda = False\n",
        "    config.log_interval = 10\n",
        "\n",
        "    optimizer = AdamW(self.model.parameters(), lr=config.lr, correct_bias=False)\n",
        "    scheduler = get_linear_schedule_with_warmup(optimizer, num_warmup_steps=0, num_training_steps=len(self.dataloader.train)* epochs)\n",
        "\n",
        "\n",
        "\n",
        "    for epoch in tqdm(range(config.epochs)):\n",
        "      train_loss  = self.train(optimizer)\n",
        "      val_loss, avg_prec, map, prec_rec_f1 = self.val()\n",
        "      # self.test() # may run after x epochs given the best model so far\n",
        "\n",
        "      wandb.log({'train_loss_epoch': np.mean(train_loss), 'epoch': epoch},commit=False)\n",
        "      wandb.log(\n",
        "          {'val_loss_epoch': np.mean(val_loss),\n",
        "           'average_precision': avg_prec,\n",
        "           'mean_avg_precision': map,\n",
        "           'precision_recall_f1': prec_rec_f1,\n",
        "           'epoch': epoch\n",
        "          })\n",
        "\n",
        "\n",
        "\n",
        "\n",
        "  def train(self, optimizer):\n",
        "\n",
        "    self.model.train()\n",
        "    total_loss = []\n",
        "    train_loader = self.dataloader.train\n",
        "\n",
        "\n",
        "    for batch_idx, entry in enumerate(train_loader):\n",
        "\n",
        "      input_ids = entry['input_ids'].to(self.device)\n",
        "      attention_mask = entry['attention_mask'].to(self.device)\n",
        "      targets = entry['target'].to(self.device)\n",
        "\n",
        "\n",
        "      optimizer.zero_grad()\n",
        "\n",
        "      logits, _ = self.model(input_ids.squeeze(1), attention_mask.squeeze(1))\n",
        "\n",
        "      loss = self.compute_metrics(logits, targets.squeeze(1))\n",
        "      loss.backward()\n",
        "\n",
        "      optimizer.step()\n",
        "\n",
        "      if ((batch_idx+1)%25==0):\n",
        "        wandb.log({'train_loss_batch': loss.item()})\n",
        "\n",
        "\n",
        "      total_loss.append(loss.item())\n",
        "\n",
        "    return total_loss\n",
        "\n",
        "\n",
        "  def val(self):\n",
        "\n",
        "    self.model.eval()\n",
        "\n",
        "    total_loss = []\n",
        "    topk_predictions = None\n",
        "    topk_targets = None\n",
        "    val_loader = self.dataloader.val\n",
        "\n",
        "    with torch.no_grad():\n",
        "\n",
        "      for entry in val_loader:\n",
        "\n",
        "        input_ids = entry['input_ids'].to(self.device)\n",
        "        attention_mask = entry['attention_mask'].to(self.device)\n",
        "        targets = entry['target'].to(self.device)\n",
        "\n",
        "        logits, _ = self.model(input_ids.squeeze(1), attention_mask.squeeze(1))\n",
        "        # k:int -> arr\n",
        "\n",
        "        loss, topk_preds, topk_targs = self.compute_metrics(logits, targets.squeeze(1), isTrain=False)\n",
        "\n",
        "        if topk_predictions is None:\n",
        "          topk_predictions = topk_preds\n",
        "        else:\n",
        "          topk_predictions = [np.concatenate((prev, curr), axis=0) for prev, curr in zip(topk_predictions,topk_preds)]\n",
        "\n",
        "        if topk_targets is None:\n",
        "          topk_targets = topk_targs\n",
        "        else:\n",
        "          topk_targets = [np.concatenate((prev, curr), axis=0) for prev, curr in zip(topk_targets,topk_targs)]\n",
        "\n",
        "        total_loss.append(loss.item())\n",
        "\n",
        "      avg_prec, map, prec_rec_f1 = self.compute_metrics(topk_predictions, topk_targets, end_of_epoch=True, isTrain=False)\n",
        "\n",
        "    return total_loss, avg_prec, map, prec_rec_f1\n",
        "\n",
        "  def test(self):\n",
        "    # self.model.eval()\n",
        "    pass"
      ],
      "execution_count": null,
      "outputs": []
    },
    {
      "cell_type": "code",
      "metadata": {
        "id": "rrDq71X-fhHA"
      },
      "source": [
        "model = BackBone()"
      ],
      "execution_count": null,
      "outputs": []
    },
    {
      "cell_type": "code",
      "metadata": {
        "id": "h2BNA2QMLrls"
      },
      "source": [
        "trainer = Trainer(model, dataloader, BATCH_SIZE)"
      ],
      "execution_count": null,
      "outputs": []
    },
    {
      "cell_type": "code",
      "metadata": {
        "id": "5P9u_IeX4pyH"
      },
      "source": [
        "trainer.fit(1, 0.0005)"
      ],
      "execution_count": null,
      "outputs": []
    },
    {
      "cell_type": "code",
      "metadata": {
        "id": "7L5BMDI_qF34"
      },
      "source": [
        "def objective(trial):\n"
      ],
      "execution_count": null,
      "outputs": []
    },
    {
      "cell_type": "markdown",
      "metadata": {
        "id": "af8sV4iibInQ"
      },
      "source": [
        "## PREV"
      ]
    },
    {
      "cell_type": "code",
      "metadata": {
        "id": "tDfKgsZGhVtj"
      },
      "source": [
        "# fig = df.groupby(['source','bias']).count()['text'].loc['BB'].plot(kind='bar')\n",
        "# HTML(fig.to_html())\n",
        "fig = df['source'].plot(kind='hist', histnorm='probability', labels=dict(value='source'))\n",
        "HTML(fig.to_html())"
      ],
      "execution_count": null,
      "outputs": []
    },
    {
      "cell_type": "code",
      "metadata": {
        "id": "p2lIf8rUFRTc"
      },
      "source": [
        "def plot(df, x_input, y_input):\n",
        "  x = df[x_input]\n",
        "  y = df[y_input]\n",
        "\n",
        "  fig = go.Figure()\n",
        "  fig.add_trace(go.Histogram2dContour(\n",
        "          x = x,\n",
        "          y = y,\n",
        "          histnorm='probability',\n",
        "          colorscale = 'Blues',\n",
        "          reversescale = True,\n",
        "          xaxis = 'x',\n",
        "          yaxis = 'y'\n",
        "      ))\n",
        "  fig.add_trace(go.Scatter(\n",
        "          x = x,\n",
        "          y = y,\n",
        "          xaxis = 'x',\n",
        "          yaxis = 'y',\n",
        "          mode = 'markers',\n",
        "          marker = dict(\n",
        "              color = 'rgba(0,0,0,0.3)',\n",
        "              size = 3\n",
        "          )\n",
        "      ))\n",
        "  fig.add_trace(go.Histogram(\n",
        "          y = y,\n",
        "          xaxis = 'x2',\n",
        "          histnorm='probability',\n",
        "          marker = dict(\n",
        "              color = 'rgba(0,0,0,1)'\n",
        "          )\n",
        "      ))\n",
        "  fig.add_trace(go.Histogram(\n",
        "          x = x,\n",
        "          yaxis = 'y2',\n",
        "          histnorm='probability',\n",
        "          marker = dict(\n",
        "              color = 'rgba(0,0,0,1)'\n",
        "          )\n",
        "      ))\n",
        "\n",
        "  fig.update_layout(\n",
        "      # autosize = False,\n",
        "      xaxis_title=x_input,\n",
        "      yaxis_title=y_input,\n",
        "      xaxis = dict(\n",
        "          zeroline = False,\n",
        "          domain = [0,0.85],\n",
        "          showgrid = False\n",
        "      ),\n",
        "      yaxis = dict(\n",
        "          zeroline = False,\n",
        "          domain = [0,0.85],\n",
        "          showgrid = False\n",
        "      ),\n",
        "      xaxis2 = dict(\n",
        "          zeroline = False,\n",
        "          domain = [0.85,1],\n",
        "          showgrid = False\n",
        "      ),\n",
        "      yaxis2 = dict(\n",
        "          zeroline = False,\n",
        "          domain = [0.85,1],\n",
        "          showgrid = False\n",
        "      ),\n",
        "      height = 600,\n",
        "      width = 600,\n",
        "      bargap = 0,\n",
        "      hovermode = 'closest',\n",
        "      showlegend = False\n",
        "  )\n",
        "  return fig\n"
      ],
      "execution_count": null,
      "outputs": []
    },
    {
      "cell_type": "code",
      "metadata": {
        "id": "87nQ3ju5Lgby"
      },
      "source": [
        "benchmk_bias = 2 #using 0.8 of scale http://portal.acm.org/citation.cfm?id=175282\n",
        "benchmk_conf = 7\n",
        "ep = 10e-6 # for numerical stability\n",
        "alpha = 0.05\n",
        "# z = (becn - mean)/std"
      ],
      "execution_count": null,
      "outputs": []
    },
    {
      "cell_type": "code",
      "metadata": {
        "id": "Ief251xQFvsW"
      },
      "source": [
        "fig = plot(df, 'bias_1','confidence_1')\n",
        "HTML(fig.to_html())"
      ],
      "execution_count": null,
      "outputs": []
    },
    {
      "cell_type": "code",
      "metadata": {
        "id": "4Z1AgSlRHBGr"
      },
      "source": [
        "fig = plot(df, 'bias_2','confidence_2')\n",
        "HTML(fig.to_html())"
      ],
      "execution_count": null,
      "outputs": []
    },
    {
      "cell_type": "code",
      "metadata": {
        "id": "uDbPVnIMHjhj"
      },
      "source": [
        "fig = plot('bias_3','confidence_3')\n",
        "HTML(fig.to_html())"
      ],
      "execution_count": null,
      "outputs": []
    },
    {
      "cell_type": "code",
      "metadata": {
        "id": "p3l4M1ciHtNs"
      },
      "source": [
        "sns.displot(df['sentiment_score'])\n",
        "plt.show()"
      ],
      "execution_count": null,
      "outputs": []
    },
    {
      "cell_type": "code",
      "metadata": {
        "id": "Qjl7QmzbIRkd"
      },
      "source": [
        "sns.displot(df['sentiment_score'])\n",
        "plt.show()"
      ],
      "execution_count": null,
      "outputs": []
    },
    {
      "cell_type": "code",
      "metadata": {
        "id": "pc-iFmIZKnXu"
      },
      "source": [
        "df['bias_std'] = df.apply(lambda row: np.std([row['bias_1'], row['bias_2'], row['bias_3']]), axis=1)\n",
        "df['confidence_std'] = df.apply(lambda row: np.std([row['confidence_1'], row['confidence_2'], row['confidence_3']]), axis=1)"
      ],
      "execution_count": null,
      "outputs": []
    },
    {
      "cell_type": "code",
      "metadata": {
        "id": "hCL2DX5E10BT"
      },
      "source": [
        "# df['bias_avg'] = df.apply(lambda row: np.mean([row['bias_1'], row['bias_2'], row['bias_3']]), axis=1)\n",
        "# df['bias_z'] = df.apply(lambda row: (row['bias_avg']-row['bias_z'])/row['bias_std']), axis=1)\n",
        "# df['bias_z'] = df.apply(lambda row: (row['bias_avg'] - benchmk_bias)/(row['bias_std']+ep), axis=1)\n",
        "# df['bias_p'] = df.apply(lambda row: round(ndtr(row['bias_z']))), axis=1)\n",
        "# df['bias_p'] = df.apply(lambda row: 1-norm.sf(row['bias_z']), axis=1)\n",
        "# df['bias_cv'] = df.apply(lambda row: row['bias_std']/(row['bias_avg']+ep), axis=1) #coefficient of variation\n",
        "# df['confidence_avg'] = df.apply(lambda row: np.mean([row['confidence_1'], row['confidence_2'], row['confidence_3']]), axis=1)\n",
        "# df['confidence_z'] = df.apply(lambda row: (row['confidence_avg'] - benchmk_conf)/(row['confidence_std']+ep), axis=1)\n",
        "# df['confidence_p'] = df.apply(lambda row: 1-norm.sf(row['confidence_z']), axis=1)\n",
        "# df['confidence_cv'] = df.apply(lambda row: row['confidence_std']/(row['confidence_avg']+ep), axis=1) #coefficient of variation"
      ],
      "execution_count": null,
      "outputs": []
    },
    {
      "cell_type": "code",
      "metadata": {
        "id": "rPi8E2UgwR-N"
      },
      "source": [
        "df['bias_avg'] = df.apply(lambda row: np.mean([row['bias_1'], row['bias_2'], row['bias_3']]), axis=1)\n",
        "df['confidence_avg'] = df.apply(lambda row: np.mean([row['confidence_1'], row['confidence_2'], row['confidence_3']]), axis=1)"
      ],
      "execution_count": null,
      "outputs": []
    },
    {
      "cell_type": "code",
      "metadata": {
        "id": "3K3ec0bpK7Ol"
      },
      "source": [
        "fig = plot('bias_avg','confidence_avg')\n",
        "HTML(fig.to_html())"
      ],
      "execution_count": null,
      "outputs": []
    },
    {
      "cell_type": "code",
      "metadata": {
        "id": "_4FtrFx9MEWf"
      },
      "source": [
        "df['bias_cv'] = df.apply(lambda row: row['bias_std']/(row['bias_avg']+ep), axis=1) #coefficient of variation\n",
        "df['confidence_cv'] = df.apply(lambda row: row['confidence_std']/(row['confidence_avg']), axis=1) #coefficient of variation"
      ],
      "execution_count": null,
      "outputs": []
    },
    {
      "cell_type": "code",
      "metadata": {
        "id": "mcO95pO5Oh5Q"
      },
      "source": [
        "sns.histplot(df['confidence_std'],stat='density', kde=True)\n",
        "plt.show()"
      ],
      "execution_count": null,
      "outputs": []
    },
    {
      "cell_type": "code",
      "metadata": {
        "id": "VRFUMFdTCDQI"
      },
      "source": [
        "sns.histplot(df['confidence_std'],stat='probability', kde=True)\n",
        "plt.show()"
      ],
      "execution_count": null,
      "outputs": []
    },
    {
      "cell_type": "code",
      "metadata": {
        "id": "GfT8t7n0hK8C"
      },
      "source": [
        "df.describe()"
      ],
      "execution_count": null,
      "outputs": []
    },
    {
      "cell_type": "code",
      "metadata": {
        "id": "BV2Qn3a86bOP"
      },
      "source": [
        "fig_go = go.Figure()\n",
        "fig_go.add_trace(go.Violin(y=df['confidence_1'], x=df['bias_1'], name='resp1'))\n",
        "fig_go.add_trace(go.Violin(y=df['confidence_2'], x=df['bias_2'], name='resp2'))\n",
        "fig_go.add_trace(go.Violin(y=df['confidence_3'], x=df['bias_3'], name='resp3'))\n",
        "# fig_go.update_layout(yaxis_title='normalized mositure', boxmode='group')\n",
        "fig_go.update_traces(box_visible=True, meanline_visible=True)\n",
        "fig_go.update_layout(violinmode='group', yaxis_title='Confidence Score', xaxis_title='Bias Level')\n",
        "HTML(fig_go.to_html())"
      ],
      "execution_count": null,
      "outputs": []
    },
    {
      "cell_type": "code",
      "metadata": {
        "id": "_vMRSlr1o3_y"
      },
      "source": [
        "sns.histplot(df['bias_avg'],stat='density', kde=True)\n",
        "plt.show()"
      ],
      "execution_count": null,
      "outputs": []
    },
    {
      "cell_type": "code",
      "metadata": {
        "id": "xkNiv-bZoonz"
      },
      "source": [
        "sns.histplot(df['confidence_avg'],stat='density', kde=True)\n",
        "plt.show()"
      ],
      "execution_count": null,
      "outputs": []
    },
    {
      "cell_type": "code",
      "metadata": {
        "id": "Gr5N_A1xpEJF"
      },
      "source": [
        "sns.histplot(df['bias_cv'],stat='density', kde=True)\n",
        "plt.show() #low cv means lower variability"
      ],
      "execution_count": null,
      "outputs": []
    },
    {
      "cell_type": "code",
      "metadata": {
        "id": "7f6_d1bmpc_K"
      },
      "source": [
        "sns.histplot(df['confidence_cv'],stat='density', kde=True)\n",
        "plt.show() #low cv means lower variability"
      ],
      "execution_count": null,
      "outputs": []
    },
    {
      "cell_type": "code",
      "metadata": {
        "id": "_xcwbz60R6Dw"
      },
      "source": [
        "fig = plot('bias_cv','confidence_cv')\n",
        "HTML(fig.to_html())"
      ],
      "execution_count": null,
      "outputs": []
    },
    {
      "cell_type": "code",
      "metadata": {
        "id": "uRBT1KuQRNMr"
      },
      "source": [
        "len(df[df['bias_cv']<0.35])/len(df)"
      ],
      "execution_count": null,
      "outputs": []
    },
    {
      "cell_type": "code",
      "metadata": {
        "id": "MXWLClZRSry_"
      },
      "source": [
        "len(df[df['bias_cv']<0.3])/len(df)"
      ],
      "execution_count": null,
      "outputs": []
    },
    {
      "cell_type": "code",
      "metadata": {
        "id": "q2emvbwPzQon"
      },
      "source": [
        "len(df[df['bias_cv']<0.4])/len(df)"
      ],
      "execution_count": null,
      "outputs": []
    },
    {
      "cell_type": "code",
      "metadata": {
        "id": "lfXatWvYTP1_"
      },
      "source": [
        "df_4 = df[df['confidence_cv']<0.4]\n",
        "df_35 = df[df['confidence_cv']<0.35]\n",
        "df_3 = df[df['confidence_cv']<0.3]\n",
        "df_2 = df[df['confidence_cv']<0.2]\n",
        "df_1 = df[df['confidence_cv']<0.1]"
      ],
      "execution_count": null,
      "outputs": []
    },
    {
      "cell_type": "code",
      "metadata": {
        "id": "OQxWz0rtD3pv"
      },
      "source": [
        "len(df_4)/len(df), len(df_35)/len(df), len(df_3)/len(df), len(df_2)/len(df), len(df_1)/len(df)"
      ],
      "execution_count": null,
      "outputs": []
    },
    {
      "cell_type": "code",
      "metadata": {
        "id": "_e-2hP3lTi4c"
      },
      "source": [
        "df_4['weighted_bias'] = df.apply(lambda row: np.average([row['bias_1'],row['bias_2'],row['bias_3']],weights=[row['confidence_1'],row['confidence_1'],row['confidence_1']]), axis=1)\n",
        "df_35['weighted_bias'] = df.apply(lambda row: np.average([row['bias_1'],row['bias_2'],row['bias_3']],weights=[row['confidence_1'],row['confidence_1'],row['confidence_1']]), axis=1)\n",
        "df_3['weighted_bias'] = df.apply(lambda row: np.average([row['bias_1'],row['bias_2'],row['bias_3']],weights=[row['confidence_1'],row['confidence_1'],row['confidence_1']]), axis=1)\n",
        "df_2['weighted_bias'] = df.apply(lambda row: np.average([row['bias_1'],row['bias_2'],row['bias_3']],weights=[row['confidence_1'],row['confidence_1'],row['confidence_1']]), axis=1)\n",
        "df_1['weighted_bias'] = df.apply(lambda row: np.average([row['bias_1'],row['bias_2'],row['bias_3']],weights=[row['confidence_1'],row['confidence_1'],row['confidence_1']]), axis=1)"
      ],
      "execution_count": null,
      "outputs": []
    },
    {
      "cell_type": "code",
      "metadata": {
        "id": "tdXFgyWkc8dB"
      },
      "source": [
        "df_4.drop(columns=['time_1','time_2','time_3']).describe()"
      ],
      "execution_count": null,
      "outputs": []
    },
    {
      "cell_type": "code",
      "metadata": {
        "id": "Xw6ITW45Y2Xn"
      },
      "source": [
        "fig = go.Figure(data=[go.Histogram(x=df_4['weighted_bias'],histnorm='probability', cumulative_enabled=True)])\n",
        "fig.update_layout(yaxis_title='Cummulated Probability', xaxis_title='Weighted Bias')\n",
        "HTML(fig.to_html())"
      ],
      "execution_count": null,
      "outputs": []
    },
    {
      "cell_type": "code",
      "metadata": {
        "id": "UVapgVm5Y3iu"
      },
      "source": [
        "fig = go.Figure(data=[go.Histogram(x=df_4['weighted_bias'],histnorm='probability', cumulative_enabled=False)])\n",
        "fig.update_layout(yaxis_title='Probability', xaxis_title='Weighted Bias')\n",
        "HTML(fig.to_html())"
      ],
      "execution_count": null,
      "outputs": []
    },
    {
      "cell_type": "code",
      "metadata": {
        "id": "x_GBMxjkY4K9"
      },
      "source": [
        "fig = go.Figure(data=[go.Histogram(x=df_3['weighted_bias'], histnorm='probability', cumulative_enabled=True)])\n",
        "\n",
        "HTML(fig.to_html())"
      ],
      "execution_count": null,
      "outputs": []
    },
    {
      "cell_type": "code",
      "metadata": {
        "id": "dWyY9Qdbzkdz"
      },
      "source": [
        "len(df_new), len(df)"
      ],
      "execution_count": null,
      "outputs": []
    },
    {
      "cell_type": "code",
      "metadata": {
        "id": "-zbN6TEB06k8"
      },
      "source": [
        "len(df_new)/len(df)"
      ],
      "execution_count": null,
      "outputs": []
    },
    {
      "cell_type": "code",
      "metadata": {
        "id": "4NWtrY0JoBcW"
      },
      "source": [
        "# sns.FacetGrid(dataset, col='bias_1', row='confidence_1Z')"
      ],
      "execution_count": null,
      "outputs": []
    },
    {
      "cell_type": "code",
      "metadata": {
        "id": "fvR94-FLwetl"
      },
      "source": [
        "# parallel_coordinates(newd, 'bias')"
      ],
      "execution_count": null,
      "outputs": []
    },
    {
      "cell_type": "code",
      "metadata": {
        "id": "clL847F5MAw9"
      },
      "source": [
        "fig, axs = plt.subplots(1,3)\n",
        "for c in range(3):\n",
        "  h = axs[c].hist2d(dataset['bias_'+str(c+1)], dataset['confidence_'+str(c+1)],cmap='jet', bins=[5,10],density=True)\n",
        "\n",
        "fig.set_size_inches(25,8)\n",
        "fig.colorbar(h[3],ax=axs)\n",
        "plt.show()"
      ],
      "execution_count": null,
      "outputs": []
    }
  ]
}